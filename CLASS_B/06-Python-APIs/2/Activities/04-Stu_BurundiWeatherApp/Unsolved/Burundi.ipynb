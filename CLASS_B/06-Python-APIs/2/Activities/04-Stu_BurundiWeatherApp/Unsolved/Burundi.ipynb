{
 "cells": [
  {
   "cell_type": "code",
   "execution_count": 1,
   "metadata": {},
   "outputs": [],
   "source": [
    "# Dependencies\n",
    "import requests\n",
    "from config import api_key\n",
    "\n",
    "# Save config information.\n"
   ]
  },
  {
   "cell_type": "code",
   "execution_count": 2,
   "metadata": {},
   "outputs": [],
   "source": [
    "# Save config information\n",
    "base_url = \"https://api.openweathermap.org/data/2.5/weather?\"\n",
    "city = \"Toronto\"\n",
    "units='metric'\n",
    "# Build query URL\n",
    "query_url= base_url+  \"q=\" +city  +  \"&appid=\" + api_key +  \"&units=\" + units\n"
   ]
  },
  {
   "cell_type": "code",
   "execution_count": 3,
   "metadata": {},
   "outputs": [
    {
     "data": {
      "text/plain": [
       "{'coord': {'lon': -79.4163, 'lat': 43.7001},\n",
       " 'weather': [{'id': 801,\n",
       "   'main': 'Clouds',\n",
       "   'description': 'few clouds',\n",
       "   'icon': '02n'}],\n",
       " 'base': 'stations',\n",
       " 'main': {'temp': 18.54,\n",
       "  'feels_like': 18.15,\n",
       "  'temp_min': 16.83,\n",
       "  'temp_max': 19.49,\n",
       "  'pressure': 1025,\n",
       "  'humidity': 65},\n",
       " 'visibility': 10000,\n",
       " 'wind': {'speed': 4.12, 'deg': 80},\n",
       " 'clouds': {'all': 20},\n",
       " 'dt': 1695338626,\n",
       " 'sys': {'type': 1,\n",
       "  'id': 718,\n",
       "  'country': 'CA',\n",
       "  'sunrise': 1695294206,\n",
       "  'sunset': 1695338298},\n",
       " 'timezone': -14400,\n",
       " 'id': 6167865,\n",
       " 'name': 'Toronto',\n",
       " 'cod': 200}"
      ]
     },
     "execution_count": 3,
     "metadata": {},
     "output_type": "execute_result"
    }
   ],
   "source": [
    "# Get temperature from JSON response\n",
    "data=requests.get(query_url).json()\n",
    "data"
   ]
  },
  {
   "cell_type": "code",
   "execution_count": 4,
   "metadata": {},
   "outputs": [
    {
     "data": {
      "text/plain": [
       "18.54"
      ]
     },
     "execution_count": 4,
     "metadata": {},
     "output_type": "execute_result"
    }
   ],
   "source": [
    "# Report temperature\n",
    "data['main']['temp']"
   ]
  },
  {
   "cell_type": "code",
   "execution_count": 12,
   "metadata": {},
   "outputs": [],
   "source": [
    "# BONUS\n",
    "\n",
    "# use list of units\n",
    "units=['metric','imperial']\n",
    "\n",
    "# set up list to hold two different temperatures\n",
    "# loop through the list of units and append them to temperatures list\n",
    "\n",
    "for unit in units:# metric\n",
    "    data=requests.get(query_url).json()\n",
    "    temp.append(data['main']['temp'])\n",
    "    # Build query URL based on current element in units\n",
    "    query_url= base_url+  \"q=\" +city  +  \"&appid=\" + api_key +  \"&units=\" + unit\n",
    "\n",
    "    # Get weather data\n",
    "    data=requests.get(query_url).json()\n",
    "    tem=data['main']['temp']\n",
    "    \n",
    "    temp.append(tem)\n",
    "    # Get temperature from JSON response\n",
    "\n",
    "\n",
    "# Report temperatures by accessing each element in the list\n"
   ]
  },
  {
   "cell_type": "code",
   "execution_count": 15,
   "metadata": {},
   "outputs": [
    {
     "data": {
      "text/plain": [
       "(65.12, 18.54)"
      ]
     },
     "execution_count": 15,
     "metadata": {},
     "output_type": "execute_result"
    }
   ],
   "source": [
    "temp[0],temp[1]"
   ]
  },
  {
   "cell_type": "code",
   "execution_count": null,
   "metadata": {},
   "outputs": [],
   "source": []
  }
 ],
 "metadata": {
  "kernelspec": {
   "display_name": "Python 3 (ipykernel)",
   "language": "python",
   "name": "python3"
  },
  "language_info": {
   "codemirror_mode": {
    "name": "ipython",
    "version": 3
   },
   "file_extension": ".py",
   "mimetype": "text/x-python",
   "name": "python",
   "nbconvert_exporter": "python",
   "pygments_lexer": "ipython3",
   "version": "3.10.9"
  },
  "varInspector": {
   "cols": {
    "lenName": 16,
    "lenType": 16,
    "lenVar": 40
   },
   "kernels_config": {
    "python": {
     "delete_cmd_postfix": "",
     "delete_cmd_prefix": "del ",
     "library": "var_list.py",
     "varRefreshCmd": "print(var_dic_list())"
    },
    "r": {
     "delete_cmd_postfix": ") ",
     "delete_cmd_prefix": "rm(",
     "library": "var_list.r",
     "varRefreshCmd": "cat(var_dic_list()) "
    }
   },
   "types_to_exclude": [
    "module",
    "function",
    "builtin_function_or_method",
    "instance",
    "_Feature"
   ],
   "window_display": false
  }
 },
 "nbformat": 4,
 "nbformat_minor": 2
}
