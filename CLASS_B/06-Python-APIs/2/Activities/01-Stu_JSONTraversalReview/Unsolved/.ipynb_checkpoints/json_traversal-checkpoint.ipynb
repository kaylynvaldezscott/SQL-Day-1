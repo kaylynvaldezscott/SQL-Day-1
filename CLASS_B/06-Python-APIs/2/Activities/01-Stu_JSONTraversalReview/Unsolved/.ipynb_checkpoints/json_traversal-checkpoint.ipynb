{
 "cells": [
  {
   "cell_type": "code",
   "execution_count": 1,
   "metadata": {},
   "outputs": [],
   "source": [
    "# Dependencies\n",
    "import json\n",
    "from pathlib import Path\n",
    "\n",
    "# Load JSON\n",
    "filepath = Path(\"../Resources/video_api_response.json\")\n",
    "with open(filepath) as jsonfile:\n",
    "    video_json = json.load(jsonfile)"
   ]
  },
  {
   "cell_type": "code",
   "execution_count": 2,
   "metadata": {},
   "outputs": [
    {
     "data": {
      "text/plain": [
       "{'data': {'updated': '2021-06-07T12:00:00.000Z',\n",
       "  'totalItems': 10,\n",
       "  'startIndex': 1,\n",
       "  'itemsPerPage': 1,\n",
       "  'items': [{'id': '1234567890',\n",
       "    'uploaded': '2021-06-05T12:00:00.000Z',\n",
       "    'updated': '2021-06-07T12:00:00.000Z',\n",
       "    'category': 'Educational',\n",
       "    'title': 'Introduction to Python Programming',\n",
       "    'description': 'This is the an introduction course to Python programming.',\n",
       "    'tags': ['Python', 'Data', 'Coding'],\n",
       "    'duration': 45,\n",
       "    'aspectRatio': 'widescreen',\n",
       "    'rating': 2.35,\n",
       "    'ratingCount': 453,\n",
       "    'viewCount': 1350,\n",
       "    'favoriteCount': 21,\n",
       "    'commentCount': 3}]}}"
      ]
     },
     "execution_count": 2,
     "metadata": {},
     "output_type": "execute_result"
    }
   ],
   "source": [
    "video_json"
   ]
  },
  {
   "cell_type": "code",
   "execution_count": 4,
   "metadata": {},
   "outputs": [
    {
     "data": {
      "text/plain": [
       "{'updated': '2021-06-07T12:00:00.000Z',\n",
       " 'totalItems': 10,\n",
       " 'startIndex': 1,\n",
       " 'itemsPerPage': 1,\n",
       " 'items': [{'id': '1234567890',\n",
       "   'uploaded': '2021-06-05T12:00:00.000Z',\n",
       "   'updated': '2021-06-07T12:00:00.000Z',\n",
       "   'category': 'Educational',\n",
       "   'title': 'Introduction to Python Programming',\n",
       "   'description': 'This is the an introduction course to Python programming.',\n",
       "   'tags': ['Python', 'Data', 'Coding'],\n",
       "   'duration': 45,\n",
       "   'aspectRatio': 'widescreen',\n",
       "   'rating': 2.35,\n",
       "   'ratingCount': 453,\n",
       "   'viewCount': 1350,\n",
       "   'favoriteCount': 21,\n",
       "   'commentCount': 3}]}"
      ]
     },
     "execution_count": 4,
     "metadata": {},
     "output_type": "execute_result"
    }
   ],
   "source": [
    "# Isolate \"data items\" for easy reading\n",
    "\n",
    "data=video_json['data']\n",
    "data\n",
    "# Retrieve the video's title\n"
   ]
  },
  {
   "cell_type": "code",
   "execution_count": 3,
   "metadata": {},
   "outputs": [
    {
     "name": "stdout",
     "output_type": "stream",
     "text": [
      "Rating: 2.35\n"
     ]
    }
   ],
   "source": [
    "# Retrieve the video's rating\n"
   ]
  },
  {
   "cell_type": "code",
   "execution_count": 4,
   "metadata": {},
   "outputs": [
    {
     "name": "stdout",
     "output_type": "stream",
     "text": [
      "Tags:  Python\n"
     ]
    }
   ],
   "source": [
    "# Retrieve the link to the video's first tag\n"
   ]
  },
  {
   "cell_type": "code",
   "execution_count": 5,
   "metadata": {},
   "outputs": [
    {
     "name": "stdout",
     "output_type": "stream",
     "text": [
      "View count: 1350\n"
     ]
    }
   ],
   "source": [
    "# Retrieve the number of views this video has\n"
   ]
  },
  {
   "cell_type": "code",
   "execution_count": null,
   "metadata": {},
   "outputs": [],
   "source": []
  }
 ],
 "metadata": {
  "kernelspec": {
   "display_name": "Python 3 (ipykernel)",
   "language": "python",
   "name": "python3"
  },
  "language_info": {
   "codemirror_mode": {
    "name": "ipython",
    "version": 3
   },
   "file_extension": ".py",
   "mimetype": "text/x-python",
   "name": "python",
   "nbconvert_exporter": "python",
   "pygments_lexer": "ipython3",
   "version": "3.10.9"
  },
  "varInspector": {
   "cols": {
    "lenName": 16,
    "lenType": 16,
    "lenVar": 40
   },
   "kernels_config": {
    "python": {
     "delete_cmd_postfix": "",
     "delete_cmd_prefix": "del ",
     "library": "var_list.py",
     "varRefreshCmd": "print(var_dic_list())"
    },
    "r": {
     "delete_cmd_postfix": ") ",
     "delete_cmd_prefix": "rm(",
     "library": "var_list.r",
     "varRefreshCmd": "cat(var_dic_list()) "
    }
   },
   "types_to_exclude": [
    "module",
    "function",
    "builtin_function_or_method",
    "instance",
    "_Feature"
   ],
   "window_display": false
  }
 },
 "nbformat": 4,
 "nbformat_minor": 2
}
