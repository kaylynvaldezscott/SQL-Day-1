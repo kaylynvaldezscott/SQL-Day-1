{
 "cells": [
  {
   "cell_type": "code",
   "execution_count": 2,
   "metadata": {},
   "outputs": [],
   "source": [
    "# Dependencies\n",
    "import requests\n",
    "import json"
   ]
  },
  {
   "cell_type": "code",
   "execution_count": 3,
   "metadata": {},
   "outputs": [],
   "source": [
    "# Base URL for GET requests to retrieve number/date facts\n",
    "url='http://numbersapi.com/'"
   ]
  },
  {
   "cell_type": "code",
   "execution_count": 20,
   "metadata": {},
   "outputs": [
    {
     "name": "stdout",
     "output_type": "stream",
     "text": [
      " What type of data would you like to search for?  [Trivia, Math, Date, or Year]Math\n"
     ]
    }
   ],
   "source": [
    "# Ask the user what kind of data they would like to search for\n",
    "kinds_of_search=input(\" What type of data would you like to search for?  [Trivia, Math, Date, or Year]\")"
   ]
  },
  {
   "cell_type": "code",
   "execution_count": 21,
   "metadata": {},
   "outputs": [
    {
     "data": {
      "text/plain": [
       "'Math'"
      ]
     },
     "execution_count": 21,
     "metadata": {},
     "output_type": "execute_result"
    }
   ],
   "source": [
    "kinds_of_search"
   ]
  },
  {
   "cell_type": "code",
   "execution_count": 22,
   "metadata": {},
   "outputs": [
    {
     "data": {
      "text/plain": [
       "'math'"
      ]
     },
     "execution_count": 22,
     "metadata": {},
     "output_type": "execute_result"
    }
   ],
   "source": [
    "kinds_of_search.lower()"
   ]
  },
  {
   "cell_type": "code",
   "execution_count": null,
   "metadata": {},
   "outputs": [],
   "source": []
  },
  {
   "cell_type": "code",
   "execution_count": 23,
   "metadata": {},
   "outputs": [
    {
     "name": "stdout",
     "output_type": "stream",
     "text": [
      "5\n",
      "http://numbersapi.com/5/math?json\n",
      "{'text': '5 is the second Sierpinski number of the first kind, and can be written as S2=(22)+1.', 'number': 5, 'found': True, 'type': 'math'}\n"
     ]
    }
   ],
   "source": [
    "# Create code to return a number fact\n",
    "# If the kind of search is \"date\" take in two numbers\n",
    "\n",
    "if ( kinds_of_search.lower()=='date'):\n",
    "  # Collect the month to search for\n",
    "    month=input( )\n",
    "  # Collect the day to search for\n",
    "    day= input( )\n",
    "\n",
    "  # Make an API call to the \"date\" API and convert response object to JSON\n",
    "    url1= url+month+ '/'+day+'/'+kinds_of_search.lower()+'?json'\n",
    "    print(url1)\n",
    "    \n",
    "    data=requests.get(url1).json()\n",
    "    print(data)\n",
    "    \n",
    "elif ( kinds_of_search.lower()=='math'):\n",
    "  # Collect the month to search for\n",
    "  # Collect the day to search for\n",
    "    num= input( )\n",
    "\n",
    "  # Make an API call to the \"date\" API and convert response object to JSON\n",
    "    url1= url+num+'/'+kinds_of_search.lower()+'?json'\n",
    "    print(url1)\n",
    "    \n",
    "    data=requests.get(url1).json()\n",
    "    print(data)\n",
    "    \n",
    "\n",
    "  # Print the fact stored within the response\n",
    "\n",
    "\n",
    "# If the kind of search is anything but \"date\" then take one number\n",
    "\n",
    "\n",
    "  # Collect the number to search for\n",
    "\n",
    "\n",
    "  # Make an API call to the API and convert response object to JSON\n",
    "\n",
    "  # Print the fact stored within the response\n"
   ]
  },
  {
   "cell_type": "code",
   "execution_count": null,
   "metadata": {
    "collapsed": true
   },
   "outputs": [],
   "source": []
  }
 ],
 "metadata": {
  "kernelspec": {
   "display_name": "Python 3 (ipykernel)",
   "language": "python",
   "name": "python3"
  },
  "language_info": {
   "codemirror_mode": {
    "name": "ipython",
    "version": 3
   },
   "file_extension": ".py",
   "mimetype": "text/x-python",
   "name": "python",
   "nbconvert_exporter": "python",
   "pygments_lexer": "ipython3",
   "version": "3.10.9"
  },
  "varInspector": {
   "cols": {
    "lenName": 16,
    "lenType": 16,
    "lenVar": 40
   },
   "kernels_config": {
    "python": {
     "delete_cmd_postfix": "",
     "delete_cmd_prefix": "del ",
     "library": "var_list.py",
     "varRefreshCmd": "print(var_dic_list())"
    },
    "r": {
     "delete_cmd_postfix": ") ",
     "delete_cmd_prefix": "rm(",
     "library": "var_list.r",
     "varRefreshCmd": "cat(var_dic_list()) "
    }
   },
   "types_to_exclude": [
    "module",
    "function",
    "builtin_function_or_method",
    "instance",
    "_Feature"
   ],
   "window_display": false
  }
 },
 "nbformat": 4,
 "nbformat_minor": 2
}
