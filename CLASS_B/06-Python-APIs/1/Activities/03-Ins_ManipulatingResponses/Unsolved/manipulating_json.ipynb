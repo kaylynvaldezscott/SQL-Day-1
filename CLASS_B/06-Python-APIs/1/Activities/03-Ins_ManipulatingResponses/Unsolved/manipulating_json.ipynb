{
 "cells": [
  {
   "cell_type": "code",
   "execution_count": 3,
   "metadata": {},
   "outputs": [],
   "source": [
    "# Dependencies\n",
    "import requests\n",
    "import json"
   ]
  },
  {
   "cell_type": "code",
   "execution_count": 4,
   "metadata": {},
   "outputs": [],
   "source": [
    "# Performing a GET Request and saving the \n",
    "# API's response within a variable\n",
    "url = \"https://api.spacexdata.com/v2/rockets/falcon9\"\n"
   ]
  },
  {
   "cell_type": "code",
   "execution_count": 7,
   "metadata": {},
   "outputs": [
    {
     "data": {
      "text/plain": [
       "{'rocketid': 2,\n",
       " 'id': 'falcon9',\n",
       " 'name': 'Falcon 9',\n",
       " 'type': 'rocket',\n",
       " 'active': True,\n",
       " 'stages': 2,\n",
       " 'boosters': 0,\n",
       " 'cost_per_launch': 50000000,\n",
       " 'success_rate_pct': 97,\n",
       " 'first_flight': '2010-06-04',\n",
       " 'country': 'United States',\n",
       " 'company': 'SpaceX',\n",
       " 'height': {'meters': 70, 'feet': 229.6},\n",
       " 'diameter': {'meters': 3.7, 'feet': 12},\n",
       " 'mass': {'kg': 549054, 'lb': 1207920},\n",
       " 'payload_weights': [{'id': 'leo',\n",
       "   'name': 'Low Earth Orbit',\n",
       "   'kg': 22800,\n",
       "   'lb': 50265},\n",
       "  {'id': 'gto',\n",
       "   'name': 'Geosynchronous Transfer Orbit',\n",
       "   'kg': 8300,\n",
       "   'lb': 18300},\n",
       "  {'id': 'mars', 'name': 'Mars Orbit', 'kg': 4020, 'lb': 8860}],\n",
       " 'first_stage': {'reusable': True,\n",
       "  'engines': 9,\n",
       "  'fuel_amount_tons': 385,\n",
       "  'burn_time_sec': 162,\n",
       "  'thrust_sea_level': {'kN': 7607, 'lbf': 1710000},\n",
       "  'thrust_vacuum': {'kN': 8227, 'lbf': 1849500}},\n",
       " 'second_stage': {'reusable': False,\n",
       "  'engines': 1,\n",
       "  'fuel_amount_tons': 90,\n",
       "  'burn_time_sec': 397,\n",
       "  'thrust': {'kN': 934, 'lbf': 210000},\n",
       "  'payloads': {'option_1': 'dragon',\n",
       "   'option_2': 'composite fairing',\n",
       "   'composite_fairing': {'height': {'meters': 13.1, 'feet': 43},\n",
       "    'diameter': {'meters': 5.2, 'feet': 17.1}}}},\n",
       " 'engines': {'number': 9,\n",
       "  'type': 'merlin',\n",
       "  'version': '1D+',\n",
       "  'layout': 'octaweb',\n",
       "  'isp': {'sea_level': 288, 'vacuum': 312},\n",
       "  'engine_loss_max': 2,\n",
       "  'propellant_1': 'liquid oxygen',\n",
       "  'propellant_2': 'RP-1 kerosene',\n",
       "  'thrust_sea_level': {'kN': 845, 'lbf': 190000},\n",
       "  'thrust_vacuum': {'kN': 914, 'lbf': 205500},\n",
       "  'thrust_to_weight': 180.1},\n",
       " 'landing_legs': {'number': 4, 'material': 'carbon fiber'},\n",
       " 'flickr_images': ['https://farm1.staticflickr.com/929/28787338307_3453a11a77_b.jpg',\n",
       "  'https://farm4.staticflickr.com/3955/32915197674_eee74d81bb_b.jpg',\n",
       "  'https://farm1.staticflickr.com/293/32312415025_6841e30bf1_b.jpg',\n",
       "  'https://farm1.staticflickr.com/623/23660653516_5b6cb301d1_b.jpg',\n",
       "  'https://farm6.staticflickr.com/5518/31579784413_d853331601_b.jpg',\n",
       "  'https://farm1.staticflickr.com/745/32394687645_a9c54a34ef_b.jpg'],\n",
       " 'wikipedia': 'https://en.wikipedia.org/wiki/Falcon_9',\n",
       " 'description': 'Falcon 9 is a two-stage rocket designed and manufactured by SpaceX for the reliable and safe transport of satellites and the Dragon spacecraft into orbit.'}"
      ]
     },
     "execution_count": 7,
     "metadata": {},
     "output_type": "execute_result"
    }
   ],
   "source": [
    "res=requests.get(url).json()\n",
    "res"
   ]
  },
  {
   "cell_type": "code",
   "execution_count": 8,
   "metadata": {},
   "outputs": [
    {
     "data": {
      "text/plain": [
       "2"
      ]
     },
     "execution_count": 8,
     "metadata": {},
     "output_type": "execute_result"
    }
   ],
   "source": [
    "res['rocketid']"
   ]
  },
  {
   "cell_type": "code",
   "execution_count": 12,
   "metadata": {},
   "outputs": [
    {
     "data": {
      "text/plain": [
       "'Low Earth Orbit'"
      ]
     },
     "execution_count": 12,
     "metadata": {},
     "output_type": "execute_result"
    }
   ],
   "source": [
    "res['payload_weights'][0]['name']"
   ]
  },
  {
   "cell_type": "code",
   "execution_count": null,
   "metadata": {},
   "outputs": [],
   "source": []
  },
  {
   "cell_type": "code",
   "execution_count": 14,
   "metadata": {},
   "outputs": [
    {
     "data": {
      "text/plain": [
       "4"
      ]
     },
     "execution_count": 14,
     "metadata": {},
     "output_type": "execute_result"
    }
   ],
   "source": [
    "len(res['payload_weights'][0])"
   ]
  },
  {
   "cell_type": "code",
   "execution_count": 3,
   "metadata": {},
   "outputs": [
    {
     "name": "stdout",
     "output_type": "stream",
     "text": [
      "50000000\n"
     ]
    }
   ],
   "source": [
    "# It is possible to grab a specific value \n",
    "# from within the JSON object\n"
   ]
  },
  {
   "cell_type": "code",
   "execution_count": 4,
   "metadata": {},
   "outputs": [
    {
     "name": "stdout",
     "output_type": "stream",
     "text": [
      "There are 3 payloads.\n"
     ]
    }
   ],
   "source": [
    "# It is also possible to perform some\n",
    "# analyses on values stored within the JSON object\n"
   ]
  },
  {
   "cell_type": "code",
   "execution_count": 5,
   "metadata": {},
   "outputs": [
    {
     "name": "stdout",
     "output_type": "stream",
     "text": [
      "The first payload weighed 22800 Kilograms\n"
     ]
    }
   ],
   "source": [
    "# Finally, it is possible to reference the\n",
    "# values stored within sub-dictionaries and sub-lists\n"
   ]
  },
  {
   "cell_type": "code",
   "execution_count": null,
   "metadata": {
    "collapsed": true
   },
   "outputs": [],
   "source": []
  }
 ],
 "metadata": {
  "kernelspec": {
   "display_name": "Python 3 (ipykernel)",
   "language": "python",
   "name": "python3"
  },
  "language_info": {
   "codemirror_mode": {
    "name": "ipython",
    "version": 3
   },
   "file_extension": ".py",
   "mimetype": "text/x-python",
   "name": "python",
   "nbconvert_exporter": "python",
   "pygments_lexer": "ipython3",
   "version": "3.10.9"
  },
  "varInspector": {
   "cols": {
    "lenName": 16,
    "lenType": 16,
    "lenVar": 40
   },
   "kernels_config": {
    "python": {
     "delete_cmd_postfix": "",
     "delete_cmd_prefix": "del ",
     "library": "var_list.py",
     "varRefreshCmd": "print(var_dic_list())"
    },
    "r": {
     "delete_cmd_postfix": ") ",
     "delete_cmd_prefix": "rm(",
     "library": "var_list.r",
     "varRefreshCmd": "cat(var_dic_list()) "
    }
   },
   "types_to_exclude": [
    "module",
    "function",
    "builtin_function_or_method",
    "instance",
    "_Feature"
   ],
   "window_display": false
  }
 },
 "nbformat": 4,
 "nbformat_minor": 2
}
