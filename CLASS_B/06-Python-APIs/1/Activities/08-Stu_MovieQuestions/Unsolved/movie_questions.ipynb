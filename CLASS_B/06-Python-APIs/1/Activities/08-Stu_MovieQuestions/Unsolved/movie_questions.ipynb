{
 "cells": [
  {
   "cell_type": "code",
   "execution_count": 1,
   "metadata": {},
   "outputs": [],
   "source": [
    "# Dependencies\n",
    "import requests\n",
    "from config import api_key\n",
    "\n",
    "url = f\"http://www.omdbapi.com/?apikey={api_key}&t=\""
   ]
  },
  {
   "cell_type": "code",
   "execution_count": 2,
   "metadata": {},
   "outputs": [
    {
     "data": {
      "text/plain": [
       "'http://www.omdbapi.com/?apikey=b481c5ad&t='"
      ]
     },
     "execution_count": 2,
     "metadata": {},
     "output_type": "execute_result"
    }
   ],
   "source": [
    "url"
   ]
  },
  {
   "cell_type": "code",
   "execution_count": 6,
   "metadata": {},
   "outputs": [],
   "source": [
    "urln=url+'Aliens'"
   ]
  },
  {
   "cell_type": "code",
   "execution_count": 9,
   "metadata": {},
   "outputs": [],
   "source": [
    "data=requests.get( urln).json()"
   ]
  },
  {
   "cell_type": "code",
   "execution_count": 12,
   "metadata": {},
   "outputs": [
    {
     "data": {
      "text/plain": [
       "'James Cameron'"
      ]
     },
     "execution_count": 12,
     "metadata": {},
     "output_type": "execute_result"
    }
   ],
   "source": [
    "# Who was the director of the movie Aliens?\n",
    "data['Director']"
   ]
  },
  {
   "cell_type": "code",
   "execution_count": 13,
   "metadata": {
    "scrolled": true
   },
   "outputs": [],
   "source": [
    "# What was the movie Gladiator rated?\n",
    "urln=url+'Gladiator'"
   ]
  },
  {
   "cell_type": "code",
   "execution_count": 15,
   "metadata": {},
   "outputs": [
    {
     "data": {
      "text/plain": [
       "{'Title': 'Gladiator',\n",
       " 'Year': '2000',\n",
       " 'Rated': 'R',\n",
       " 'Released': '05 May 2000',\n",
       " 'Runtime': '155 min',\n",
       " 'Genre': 'Action, Adventure, Drama',\n",
       " 'Director': 'Ridley Scott',\n",
       " 'Writer': 'David Franzoni, John Logan, William Nicholson',\n",
       " 'Actors': 'Russell Crowe, Joaquin Phoenix, Connie Nielsen',\n",
       " 'Plot': 'A former Roman General sets out to exact vengeance against the corrupt emperor who murdered his family and sent him into slavery.',\n",
       " 'Language': 'English',\n",
       " 'Country': 'United States, United Kingdom, Malta, Morocco',\n",
       " 'Awards': 'Won 5 Oscars. 60 wins & 104 nominations total',\n",
       " 'Poster': 'https://m.media-amazon.com/images/M/MV5BMDliMmNhNDEtODUyOS00MjNlLTgxODEtN2U3NzIxMGVkZTA1L2ltYWdlXkEyXkFqcGdeQXVyNjU0OTQ0OTY@._V1_SX300.jpg',\n",
       " 'Ratings': [{'Source': 'Internet Movie Database', 'Value': '8.5/10'},\n",
       "  {'Source': 'Rotten Tomatoes', 'Value': '80%'},\n",
       "  {'Source': 'Metacritic', 'Value': '67/100'}],\n",
       " 'Metascore': '67',\n",
       " 'imdbRating': '8.5',\n",
       " 'imdbVotes': '1,559,415',\n",
       " 'imdbID': 'tt0172495',\n",
       " 'Type': 'movie',\n",
       " 'DVD': '15 Jun 2011',\n",
       " 'BoxOffice': '$187,705,427',\n",
       " 'Production': 'N/A',\n",
       " 'Website': 'N/A',\n",
       " 'Response': 'True'}"
      ]
     },
     "execution_count": 15,
     "metadata": {},
     "output_type": "execute_result"
    }
   ],
   "source": [
    "data=requests.get( urln).json()\n",
    "data"
   ]
  },
  {
   "cell_type": "code",
   "execution_count": 20,
   "metadata": {},
   "outputs": [],
   "source": [
    "urln=url+'50 First Dates'"
   ]
  },
  {
   "cell_type": "code",
   "execution_count": 21,
   "metadata": {},
   "outputs": [
    {
     "data": {
      "text/plain": [
       "{'Title': '50 First Dates',\n",
       " 'Year': '2004',\n",
       " 'Rated': 'PG-13',\n",
       " 'Released': '13 Feb 2004',\n",
       " 'Runtime': '99 min',\n",
       " 'Genre': 'Comedy, Drama, Romance',\n",
       " 'Director': 'Peter Segal',\n",
       " 'Writer': 'George Wing',\n",
       " 'Actors': 'Adam Sandler, Drew Barrymore, Rob Schneider',\n",
       " 'Plot': \"Henry Roth is a man afraid of commitment until he meets the beautiful Lucy. They hit it off and Henry think he's finally found the girl of his dreams until discovering she has short-term memory loss and forgets him the next day.\",\n",
       " 'Language': 'English, Hawaiian, Mandarin',\n",
       " 'Country': 'United States',\n",
       " 'Awards': '6 wins & 10 nominations',\n",
       " 'Poster': 'https://m.media-amazon.com/images/M/MV5BMjAwMzc4MDgxNF5BMl5BanBnXkFtZTYwNjUwMzE3._V1_SX300.jpg',\n",
       " 'Ratings': [{'Source': 'Internet Movie Database', 'Value': '6.8/10'},\n",
       "  {'Source': 'Rotten Tomatoes', 'Value': '45%'},\n",
       "  {'Source': 'Metacritic', 'Value': '48/100'}],\n",
       " 'Metascore': '48',\n",
       " 'imdbRating': '6.8',\n",
       " 'imdbVotes': '370,941',\n",
       " 'imdbID': 'tt0343660',\n",
       " 'Type': 'movie',\n",
       " 'DVD': '26 Mar 2013',\n",
       " 'BoxOffice': '$120,908,074',\n",
       " 'Production': 'N/A',\n",
       " 'Website': 'N/A',\n",
       " 'Response': 'True'}"
      ]
     },
     "execution_count": 21,
     "metadata": {},
     "output_type": "execute_result"
    }
   ],
   "source": [
    "# What year was 50 First Dates released?\n",
    "data=requests.get(urln).json()\n",
    "data"
   ]
  },
  {
   "cell_type": "code",
   "execution_count": 22,
   "metadata": {
    "scrolled": true
   },
   "outputs": [],
   "source": [
    "# Who wrote Moana?\n",
    "urln=url+'Sing'"
   ]
  },
  {
   "cell_type": "code",
   "execution_count": 24,
   "metadata": {
    "scrolled": true
   },
   "outputs": [
    {
     "data": {
      "text/plain": [
       "\"In a city of humanoid animals, a hustling theater impresario's attempt to save his theater with a singing competition becomes grander than he anticipates even as its finalists find that their lives will never be the same.\""
      ]
     },
     "execution_count": 24,
     "metadata": {},
     "output_type": "execute_result"
    }
   ],
   "source": [
    "# What was the plot of the movie Sing?\n",
    "requests.get(urln).json()['Plot']"
   ]
  },
  {
   "cell_type": "code",
   "execution_count": 32,
   "metadata": {},
   "outputs": [],
   "source": [
    "movie=['Sing','Aliens','Moana']"
   ]
  },
  {
   "cell_type": "code",
   "execution_count": 41,
   "metadata": {},
   "outputs": [],
   "source": [
    "l=[]\n",
    "l1=[]"
   ]
  },
  {
   "cell_type": "code",
   "execution_count": 39,
   "metadata": {},
   "outputs": [],
   "source": [
    "for m in movie:\n",
    "    urln= url+m\n",
    "    l.append(requests.get(urln).json()['Year'])\n",
    "    l1.append(requests.get(urln).json()['plot'])"
   ]
  },
  {
   "cell_type": "code",
   "execution_count": 40,
   "metadata": {},
   "outputs": [
    {
     "data": {
      "text/plain": [
       "['2016', '1986', '2016']"
      ]
     },
     "execution_count": 40,
     "metadata": {},
     "output_type": "execute_result"
    }
   ],
   "source": [
    "l"
   ]
  },
  {
   "cell_type": "code",
   "execution_count": null,
   "metadata": {},
   "outputs": [],
   "source": []
  }
 ],
 "metadata": {
  "kernelspec": {
   "display_name": "Python 3 (ipykernel)",
   "language": "python",
   "name": "python3"
  },
  "language_info": {
   "codemirror_mode": {
    "name": "ipython",
    "version": 3
   },
   "file_extension": ".py",
   "mimetype": "text/x-python",
   "name": "python",
   "nbconvert_exporter": "python",
   "pygments_lexer": "ipython3",
   "version": "3.10.9"
  },
  "varInspector": {
   "cols": {
    "lenName": 16,
    "lenType": 16,
    "lenVar": 40
   },
   "kernels_config": {
    "python": {
     "delete_cmd_postfix": "",
     "delete_cmd_prefix": "del ",
     "library": "var_list.py",
     "varRefreshCmd": "print(var_dic_list())"
    },
    "r": {
     "delete_cmd_postfix": ") ",
     "delete_cmd_prefix": "rm(",
     "library": "var_list.r",
     "varRefreshCmd": "cat(var_dic_list()) "
    }
   },
   "types_to_exclude": [
    "module",
    "function",
    "builtin_function_or_method",
    "instance",
    "_Feature"
   ],
   "window_display": false
  }
 },
 "nbformat": 4,
 "nbformat_minor": 2
}
