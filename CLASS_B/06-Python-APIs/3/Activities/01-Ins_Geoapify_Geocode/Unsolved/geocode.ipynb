{
 "cells": [
  {
   "cell_type": "markdown",
   "metadata": {},
   "source": [
    "# Geoapify Geocode Demo"
   ]
  },
  {
   "cell_type": "code",
   "execution_count": 23,
   "metadata": {},
   "outputs": [],
   "source": [
    "# Dependencies\n",
    "import requests\n",
    "import json\n",
    "\n",
    "# Import the API key\n",
    "from config import geoapify_key"
   ]
  },
  {
   "cell_type": "code",
   "execution_count": 24,
   "metadata": {},
   "outputs": [
    {
     "data": {
      "text/plain": [
       "'4a987a25d5c0407a8b6de8933da491dc'"
      ]
     },
     "execution_count": 24,
     "metadata": {},
     "output_type": "execute_result"
    }
   ],
   "source": [
    "geoapify_key"
   ]
  },
  {
   "cell_type": "code",
   "execution_count": 20,
   "metadata": {},
   "outputs": [],
   "source": [
    "# Target city\n",
    "target_city='Sydney, Australia'"
   ]
  },
  {
   "cell_type": "code",
   "execution_count": 25,
   "metadata": {},
   "outputs": [],
   "source": [
    "url = \"https://api.geoapify.com/v1/geocode/search?text=Sydney%2C%20Australia&lang=en&limit=20&type=city&format=json&apiKey=4a987a25d5c0407a8b6de8933da491dc\""
   ]
  },
  {
   "cell_type": "code",
   "execution_count": 27,
   "metadata": {},
   "outputs": [],
   "source": [
    "response = requests.get(url)\n",
    "geo_data=response.json()"
   ]
  },
  {
   "cell_type": "code",
   "execution_count": 37,
   "metadata": {},
   "outputs": [],
   "source": [
    "base_url='https://api.geoapify.com/v1/geocode/search?'"
   ]
  },
  {
   "cell_type": "code",
   "execution_count": 30,
   "metadata": {},
   "outputs": [],
   "source": [
    "# Build the endpoint URL\n",
    "target_url = f\"https://api.geoapify.com/v1/geocode/search?text={target_city}&format=json&apiKey={geoapify_key}\""
   ]
  },
  {
   "cell_type": "code",
   "execution_count": 38,
   "metadata": {},
   "outputs": [],
   "source": [
    "base_url='https://api.geoapify.com/v1/geocode/search?'\n",
    "\n",
    "# set up a parameters dictionary\n",
    "params = {\n",
    "    \"text\":target_city,\n",
    "    \"limit\":'20',\n",
    "    \"apiKey\":geoapify_key    \n",
    "}"
   ]
  },
  {
   "cell_type": "code",
   "execution_count": 44,
   "metadata": {},
   "outputs": [],
   "source": [
    "base_url='https://api.geoapify.com/v1/geocode/search?'\n",
    "\n",
    "# set up a parameters dictionary\n",
    "params = {\n",
    "    \"text\":'Toronto, Canada',\n",
    "    \"limit\":'20',\n",
    "    'lang':'en',\n",
    "    \"apiKey\":geoapify_key    \n",
    "}"
   ]
  },
  {
   "cell_type": "code",
   "execution_count": 45,
   "metadata": {},
   "outputs": [
    {
     "data": {
      "text/plain": [
       "<Response [200]>"
      ]
     },
     "execution_count": 45,
     "metadata": {},
     "output_type": "execute_result"
    }
   ],
   "source": [
    "requests.get(base_url, params=params )"
   ]
  },
  {
   "cell_type": "code",
   "execution_count": 46,
   "metadata": {},
   "outputs": [
    {
     "data": {
      "text/plain": [
       "{'type': 'FeatureCollection',\n",
       " 'features': [{'type': 'Feature',\n",
       "   'properties': {'datasource': {'sourcename': 'openstreetmap',\n",
       "     'attribution': '© OpenStreetMap contributors',\n",
       "     'license': 'Open Database License',\n",
       "     'url': 'https://www.openstreetmap.org/copyright'},\n",
       "    'country': 'Canada',\n",
       "    'country_code': 'ca',\n",
       "    'state': 'Ontario',\n",
       "    'county': 'Golden Horseshoe',\n",
       "    'city': 'Toronto',\n",
       "    'lon': -79.3839347,\n",
       "    'lat': 43.6534817,\n",
       "    'state_code': 'ON',\n",
       "    'formatted': 'Toronto, ON, Canada',\n",
       "    'address_line1': 'Toronto, ON',\n",
       "    'address_line2': 'Canada',\n",
       "    'category': 'administrative',\n",
       "    'timezone': {'name': 'America/Toronto',\n",
       "     'offset_STD': '-05:00',\n",
       "     'offset_STD_seconds': -18000,\n",
       "     'offset_DST': '-04:00',\n",
       "     'offset_DST_seconds': -14400,\n",
       "     'abbreviation_STD': 'EST',\n",
       "     'abbreviation_DST': 'EDT'},\n",
       "    'plus_code': '87M2MJ38+9C',\n",
       "    'plus_code_short': 'MJ38+9C Toronto, Golden Horseshoe, Canada',\n",
       "    'result_type': 'city',\n",
       "    'rank': {'importance': 0.9130149417022804,\n",
       "     'popularity': 8.474143437228948,\n",
       "     'confidence': 1,\n",
       "     'confidence_city_level': 1,\n",
       "     'match_type': 'full_match'},\n",
       "    'place_id': '512c13d96292d853c0596a04d149a5d34540f00101f90173f2040000000000c00208'},\n",
       "   'geometry': {'type': 'Point', 'coordinates': [-79.3839347, 43.6534817]},\n",
       "   'bbox': [-79.6392832, 43.5796082, -79.1132193, 43.8554414]},\n",
       "  {'type': 'Feature',\n",
       "   'properties': {'datasource': {'sourcename': 'openstreetmap',\n",
       "     'attribution': '© OpenStreetMap contributors',\n",
       "     'license': 'Open Database License',\n",
       "     'url': 'https://www.openstreetmap.org/copyright'},\n",
       "    'country': 'Canada',\n",
       "    'country_code': 'ca',\n",
       "    'state': 'Prince Edward Island',\n",
       "    'county': 'Queens County',\n",
       "    'city': 'Toronto',\n",
       "    'lon': -63.3799629,\n",
       "    'lat': 46.4524682,\n",
       "    'state_code': 'PE',\n",
       "    'formatted': 'Toronto, PE, Canada',\n",
       "    'address_line1': 'Toronto, PE',\n",
       "    'address_line2': 'Canada',\n",
       "    'category': 'administrative',\n",
       "    'timezone': {'name': 'America/Halifax',\n",
       "     'offset_STD': '-04:00',\n",
       "     'offset_STD_seconds': -14400,\n",
       "     'offset_DST': '-03:00',\n",
       "     'offset_DST_seconds': -10800,\n",
       "     'abbreviation_STD': 'AST',\n",
       "     'abbreviation_DST': 'ADT'},\n",
       "    'plus_code': '87RRFJ2C+X2',\n",
       "    'result_type': 'city',\n",
       "    'rank': {'importance': 0.5500099999999999,\n",
       "     'popularity': 0.7751073925502354,\n",
       "     'confidence': 1,\n",
       "     'confidence_city_level': 1,\n",
       "     'match_type': 'full_match'},\n",
       "    'place_id': '51bf98d29fa2b04fc05970bd5c7aea394740f00101f9014392b70000000000c00208'},\n",
       "   'geometry': {'type': 'Point', 'coordinates': [-63.3799629, 46.4524682]},\n",
       "   'bbox': [-63.3982902, 46.4305437, -63.3671092, 46.4662257]},\n",
       "  {'type': 'Feature',\n",
       "   'properties': {'datasource': {'sourcename': 'openstreetmap',\n",
       "     'attribution': '© OpenStreetMap contributors',\n",
       "     'license': 'Open Database License',\n",
       "     'url': 'https://www.openstreetmap.org/copyright'},\n",
       "    'country': 'Canada',\n",
       "    'country_code': 'ca',\n",
       "    'state': 'Ontario',\n",
       "    'county': 'Golden Horseshoe',\n",
       "    'city': 'Old Toronto',\n",
       "    'lon': -79.3839347,\n",
       "    'lat': 43.6534817,\n",
       "    'state_code': 'ON',\n",
       "    'formatted': 'Old Toronto, ON, Canada',\n",
       "    'address_line1': 'Old Toronto, ON',\n",
       "    'address_line2': 'Canada',\n",
       "    'category': 'administrative',\n",
       "    'timezone': {'name': 'America/Toronto',\n",
       "     'offset_STD': '-05:00',\n",
       "     'offset_STD_seconds': -18000,\n",
       "     'offset_DST': '-04:00',\n",
       "     'offset_DST_seconds': -14400,\n",
       "     'abbreviation_STD': 'EST',\n",
       "     'abbreviation_DST': 'EDT'},\n",
       "    'plus_code': '87M2MJ38+9C',\n",
       "    'result_type': 'city',\n",
       "    'rank': {'importance': 0.9130149417022804,\n",
       "     'popularity': 8.474143437228948,\n",
       "     'confidence': 1,\n",
       "     'confidence_city_level': 1,\n",
       "     'match_type': 'full_match'},\n",
       "    'place_id': '512c13d96292d853c0596a04d149a5d34540f00101f901259d2d0000000000c00208'},\n",
       "   'geometry': {'type': 'Point', 'coordinates': [-79.3839347, 43.6534817]},\n",
       "   'bbox': [-79.492821, 43.610384, -79.2785104, 43.7360196]}],\n",
       " 'query': {'text': 'Toronto, Canada',\n",
       "  'parsed': {'city': 'toronto', 'country': 'canada', 'expected_type': 'city'}}}"
      ]
     },
     "execution_count": 46,
     "metadata": {},
     "output_type": "execute_result"
    }
   ],
   "source": [
    "requests.get(base_url, params=params ).json()"
   ]
  },
  {
   "cell_type": "code",
   "execution_count": null,
   "metadata": {},
   "outputs": [],
   "source": []
  }
 ],
 "metadata": {
  "anaconda-cloud": {},
  "kernelspec": {
   "display_name": "Python 3 (ipykernel)",
   "language": "python",
   "name": "python3"
  },
  "language_info": {
   "codemirror_mode": {
    "name": "ipython",
    "version": 3
   },
   "file_extension": ".py",
   "mimetype": "text/x-python",
   "name": "python",
   "nbconvert_exporter": "python",
   "pygments_lexer": "ipython3",
   "version": "3.10.9"
  }
 },
 "nbformat": 4,
 "nbformat_minor": 4
}
