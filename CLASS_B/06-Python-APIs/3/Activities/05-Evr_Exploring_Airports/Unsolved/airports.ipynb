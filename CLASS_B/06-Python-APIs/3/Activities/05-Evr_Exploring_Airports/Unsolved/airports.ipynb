{
 "cells": [
  {
   "cell_type": "markdown",
   "metadata": {},
   "source": [
    "# Exploring Airports in Australia"
   ]
  },
  {
   "cell_type": "code",
   "execution_count": 1,
   "metadata": {},
   "outputs": [],
   "source": [
    "# Dependencies\n",
    "import pandas as pd\n",
    "import numpy as np\n",
    "import requests\n",
    "import json\n",
    "\n",
    "# Import API key\n",
    "from config import geoapify_key"
   ]
  },
  {
   "cell_type": "markdown",
   "metadata": {},
   "source": [
    "## DataFrame Preparation"
   ]
  },
  {
   "cell_type": "code",
   "execution_count": 2,
   "metadata": {},
   "outputs": [
    {
     "data": {
      "text/html": [
       "<div>\n",
       "<style scoped>\n",
       "    .dataframe tbody tr th:only-of-type {\n",
       "        vertical-align: middle;\n",
       "    }\n",
       "\n",
       "    .dataframe tbody tr th {\n",
       "        vertical-align: top;\n",
       "    }\n",
       "\n",
       "    .dataframe thead th {\n",
       "        text-align: right;\n",
       "    }\n",
       "</style>\n",
       "<table border=\"1\" class=\"dataframe\">\n",
       "  <thead>\n",
       "    <tr style=\"text-align: right;\">\n",
       "      <th></th>\n",
       "      <th>City</th>\n",
       "    </tr>\n",
       "  </thead>\n",
       "  <tbody>\n",
       "    <tr>\n",
       "      <th>0</th>\n",
       "      <td>Sydney</td>\n",
       "    </tr>\n",
       "    <tr>\n",
       "      <th>1</th>\n",
       "      <td>Melbourne</td>\n",
       "    </tr>\n",
       "    <tr>\n",
       "      <th>2</th>\n",
       "      <td>Perth</td>\n",
       "    </tr>\n",
       "    <tr>\n",
       "      <th>3</th>\n",
       "      <td>Cairns</td>\n",
       "    </tr>\n",
       "    <tr>\n",
       "      <th>4</th>\n",
       "      <td>Adelaide</td>\n",
       "    </tr>\n",
       "  </tbody>\n",
       "</table>\n",
       "</div>"
      ],
      "text/plain": [
       "        City\n",
       "0     Sydney\n",
       "1  Melbourne\n",
       "2      Perth\n",
       "3     Cairns\n",
       "4   Adelaide"
      ]
     },
     "execution_count": 2,
     "metadata": {},
     "output_type": "execute_result"
    }
   ],
   "source": [
    "# Import cities file as DataFrame\n",
    "cities_pd = pd.read_csv(\"../Resources/cities.csv\")\n",
    "cities_pd.head()"
   ]
  },
  {
   "cell_type": "code",
   "execution_count": 3,
   "metadata": {},
   "outputs": [
    {
     "data": {
      "text/html": [
       "<div>\n",
       "<style scoped>\n",
       "    .dataframe tbody tr th:only-of-type {\n",
       "        vertical-align: middle;\n",
       "    }\n",
       "\n",
       "    .dataframe tbody tr th {\n",
       "        vertical-align: top;\n",
       "    }\n",
       "\n",
       "    .dataframe thead th {\n",
       "        text-align: right;\n",
       "    }\n",
       "</style>\n",
       "<table border=\"1\" class=\"dataframe\">\n",
       "  <thead>\n",
       "    <tr style=\"text-align: right;\">\n",
       "      <th></th>\n",
       "      <th>City</th>\n",
       "      <th>Lat</th>\n",
       "      <th>Lon</th>\n",
       "      <th>Airport Name</th>\n",
       "      <th>IATA Name</th>\n",
       "      <th>Airport Address</th>\n",
       "      <th>Distance</th>\n",
       "      <th>Website</th>\n",
       "    </tr>\n",
       "  </thead>\n",
       "  <tbody>\n",
       "    <tr>\n",
       "      <th>0</th>\n",
       "      <td>Sydney</td>\n",
       "      <td></td>\n",
       "      <td></td>\n",
       "      <td></td>\n",
       "      <td></td>\n",
       "      <td></td>\n",
       "      <td></td>\n",
       "      <td></td>\n",
       "    </tr>\n",
       "    <tr>\n",
       "      <th>1</th>\n",
       "      <td>Melbourne</td>\n",
       "      <td></td>\n",
       "      <td></td>\n",
       "      <td></td>\n",
       "      <td></td>\n",
       "      <td></td>\n",
       "      <td></td>\n",
       "      <td></td>\n",
       "    </tr>\n",
       "    <tr>\n",
       "      <th>2</th>\n",
       "      <td>Perth</td>\n",
       "      <td></td>\n",
       "      <td></td>\n",
       "      <td></td>\n",
       "      <td></td>\n",
       "      <td></td>\n",
       "      <td></td>\n",
       "      <td></td>\n",
       "    </tr>\n",
       "    <tr>\n",
       "      <th>3</th>\n",
       "      <td>Cairns</td>\n",
       "      <td></td>\n",
       "      <td></td>\n",
       "      <td></td>\n",
       "      <td></td>\n",
       "      <td></td>\n",
       "      <td></td>\n",
       "      <td></td>\n",
       "    </tr>\n",
       "    <tr>\n",
       "      <th>4</th>\n",
       "      <td>Adelaide</td>\n",
       "      <td></td>\n",
       "      <td></td>\n",
       "      <td></td>\n",
       "      <td></td>\n",
       "      <td></td>\n",
       "      <td></td>\n",
       "      <td></td>\n",
       "    </tr>\n",
       "  </tbody>\n",
       "</table>\n",
       "</div>"
      ],
      "text/plain": [
       "        City Lat Lon Airport Name IATA Name Airport Address Distance Website\n",
       "0     Sydney                                                                \n",
       "1  Melbourne                                                                \n",
       "2      Perth                                                                \n",
       "3     Cairns                                                                \n",
       "4   Adelaide                                                                "
      ]
     },
     "execution_count": 3,
     "metadata": {},
     "output_type": "execute_result"
    }
   ],
   "source": [
    "# Add columns the airports data we will fetch using the Geoapify API\n",
    "# Note that we used \"\" to specify initial entry.\n",
    "cities_pd[\"Lat\"] = \"\"\n",
    "cities_pd[\"Lon\"] = \"\"\n",
    "cities_pd[\"Airport Name\"] = \"\"\n",
    "cities_pd[\"IATA Name\"] = \"\"\n",
    "cities_pd[\"Airport Address\"] = \"\"\n",
    "cities_pd[\"Distance\"] = \"\"\n",
    "cities_pd[\"Website\"] = \"\"\n",
    "cities_pd.head()"
   ]
  },
  {
   "cell_type": "markdown",
   "metadata": {},
   "source": [
    "## Look for Geographical Coordinates for Each City"
   ]
  },
  {
   "cell_type": "code",
   "execution_count": 8,
   "metadata": {},
   "outputs": [],
   "source": [
    "# Define the API parameters\n",
    "params = {\n",
    "    \"apiKey\":geoapify_key,\n",
    "    \"format\":\"json\"\n",
    "}\n",
    "\n",
    "# Set the base URL\n",
    "base_url = \"https://api.geoapify.com/v1/geocode/search\""
   ]
  },
  {
   "cell_type": "code",
   "execution_count": null,
   "metadata": {},
   "outputs": [],
   "source": [
    "params['text']='Sydney, Aus... '"
   ]
  },
  {
   "cell_type": "code",
   "execution_count": 12,
   "metadata": {},
   "outputs": [],
   "source": [
    "\n",
    "# Loop through the cities_pd DataFrame and search coordinates for each city\n",
    "for index, row in cities_pd.iterrows():\n",
    "\n",
    "    # Get the city's name & add \", Australia\" to the string so geoapify finds the correct city\n",
    "    city = row[\"City\"] + \", Australia\"\n",
    "    # Add the current city to the parameters\n",
    "    params['text']=city\n",
    "\n",
    "    # Make the API request\n",
    "    response = requests.get(base_url, params=params)\n",
    "    # Convert response to JSON\n",
    "    response = response.json()\n",
    "\n",
    "    # Extract latitude and longitude\n",
    "    cities_pd.loc[index, \"Lat\"] = response[\"results\"][0][\"lat\"]\n",
    "    cities_pd.loc[index, \"Lon\"] = response[\"results\"][0][\"lon\"]\n",
    "\n",
    "    # Log the search results\n",
    "#print(f\"Coordinates for {city} fetched...\")\n",
    "    \n",
    "# Display sample data to confirm that the coordinates appear\n"
   ]
  },
  {
   "cell_type": "code",
   "execution_count": 13,
   "metadata": {},
   "outputs": [
    {
     "data": {
      "text/html": [
       "<div>\n",
       "<style scoped>\n",
       "    .dataframe tbody tr th:only-of-type {\n",
       "        vertical-align: middle;\n",
       "    }\n",
       "\n",
       "    .dataframe tbody tr th {\n",
       "        vertical-align: top;\n",
       "    }\n",
       "\n",
       "    .dataframe thead th {\n",
       "        text-align: right;\n",
       "    }\n",
       "</style>\n",
       "<table border=\"1\" class=\"dataframe\">\n",
       "  <thead>\n",
       "    <tr style=\"text-align: right;\">\n",
       "      <th></th>\n",
       "      <th>City</th>\n",
       "      <th>Lat</th>\n",
       "      <th>Lon</th>\n",
       "      <th>Airport Name</th>\n",
       "      <th>IATA Name</th>\n",
       "      <th>Airport Address</th>\n",
       "      <th>Distance</th>\n",
       "      <th>Website</th>\n",
       "    </tr>\n",
       "  </thead>\n",
       "  <tbody>\n",
       "    <tr>\n",
       "      <th>0</th>\n",
       "      <td>Sydney</td>\n",
       "      <td>-33.869844</td>\n",
       "      <td>151.208285</td>\n",
       "      <td></td>\n",
       "      <td></td>\n",
       "      <td></td>\n",
       "      <td></td>\n",
       "      <td></td>\n",
       "    </tr>\n",
       "    <tr>\n",
       "      <th>1</th>\n",
       "      <td>Melbourne</td>\n",
       "      <td>-37.814245</td>\n",
       "      <td>144.963173</td>\n",
       "      <td></td>\n",
       "      <td></td>\n",
       "      <td></td>\n",
       "      <td></td>\n",
       "      <td></td>\n",
       "    </tr>\n",
       "  </tbody>\n",
       "</table>\n",
       "</div>"
      ],
      "text/plain": [
       "        City        Lat         Lon Airport Name IATA Name Airport Address  \\\n",
       "0     Sydney -33.869844  151.208285                                          \n",
       "1  Melbourne -37.814245  144.963173                                          \n",
       "\n",
       "  Distance Website  \n",
       "0                   \n",
       "1                   "
      ]
     },
     "execution_count": 13,
     "metadata": {},
     "output_type": "execute_result"
    }
   ],
   "source": [
    "cities_pd.head(2)"
   ]
  },
  {
   "cell_type": "code",
   "execution_count": null,
   "metadata": {},
   "outputs": [],
   "source": [
    "#lat,long"
   ]
  },
  {
   "cell_type": "markdown",
   "metadata": {},
   "source": [
    "## Retrieve Airports' Information"
   ]
  },
  {
   "cell_type": "code",
   "execution_count": 14,
   "metadata": {},
   "outputs": [
    {
     "name": "stdout",
     "output_type": "stream",
     "text": [
      "nearest airport from Sydney: Sydney (Kingsford Smith) Airport\n",
      "nearest airport from Melbourne: Essendon Fields Airport\n",
      "nearest airport from Perth: Perth Airport\n",
      "website not found for Cairns Airport\n",
      "nearest airport from Cairns: Cairns Airport\n",
      "nearest airport from Adelaide: Adelaide Airport\n",
      "nearest airport from Gold Coast: Gold Coast Airport\n",
      "nearest airport from Townsville: Townsville Airport\n",
      "nearest airport from Williamtown: Newcastle Airport\n"
     ]
    }
   ],
   "source": [
    "# Set parameters to search for airport's details\n",
    "radius = 50000\n",
    "params = {\n",
    "    \"categories\":\"airport\",\n",
    "    \"apiKey\": geoapify_key,\n",
    "    \"limit\":20\n",
    "}\n",
    "\n",
    "# Set base URL\n",
    "base_url = \"https://api.geoapify.com/v2/places\"\n",
    "\n",
    "# Iterate through the types_df DataFrame\n",
    "for index, row in cities_pd.iterrows():\n",
    "    # Get the city's name\n",
    "    city = row[\"City\"]\n",
    "    # Get latitude, longitude from the DataFrame\n",
    "    latitude = row[\"Lat\"]\n",
    "    longitude = row[\"Lon\"]\n",
    "    \n",
    "    \n",
    "    # Add the current city's latitude and longitude to the params dictionary\n",
    "    params[\"filter\"] = f\"circle:{longitude},{latitude},{radius}\"\n",
    "    params[\"bias\"] = f\"proximity:{longitude},{latitude}\"\n",
    "    \n",
    "           \n",
    "    # Make an API request using the params dictionary\n",
    "    response = requests.get(base_url, params=params)\n",
    "        \n",
    "    # Convert the API response to JSON format\n",
    "    response = response.json()\n",
    "    # Grab the first airport from the results and store the details in the DataFrame\n",
    "    try:\n",
    "        cities_pd.loc[index, \"Airport Name\"] = response[\"features\"][0][\"properties\"][\"name\"]\n",
    "        cities_pd.loc[index, \"IATA Name\"] = response[\"features\"][0][\"properties\"][\"datasource\"][\"raw\"][\"iata\"]\n",
    "        cities_pd.loc[index, \"Airport Address\"] = response[\"features\"][0][\"properties\"][\"address_line2\"]\n",
    "        cities_pd.loc[index, \"Distance\"] = response[\"features\"][0][\"properties\"][\"distance\"]\n",
    "        cities_pd.loc[index, \"Website\"] = response[\"features\"][0][\"properties\"][\"datasource\"][\"raw\"][\"website\"]\n",
    "\n",
    "    except KeyError as e:\n",
    "        # If no airport is found, log the error.\n",
    "        print(f\"{e.args[0]} not found for {cities_pd.loc[index, 'Airport Name']}\")\n",
    "        \n",
    "    # Log the search results\n",
    "    print(f\"nearest airport from {city}: {cities_pd.loc[index, 'Airport Name']}\")\n",
    "\n",
    "# Display sample data\n"
   ]
  },
  {
   "cell_type": "code",
   "execution_count": 16,
   "metadata": {},
   "outputs": [
    {
     "data": {
      "text/html": [
       "<div>\n",
       "<style scoped>\n",
       "    .dataframe tbody tr th:only-of-type {\n",
       "        vertical-align: middle;\n",
       "    }\n",
       "\n",
       "    .dataframe tbody tr th {\n",
       "        vertical-align: top;\n",
       "    }\n",
       "\n",
       "    .dataframe thead th {\n",
       "        text-align: right;\n",
       "    }\n",
       "</style>\n",
       "<table border=\"1\" class=\"dataframe\">\n",
       "  <thead>\n",
       "    <tr style=\"text-align: right;\">\n",
       "      <th></th>\n",
       "      <th>City</th>\n",
       "      <th>Lat</th>\n",
       "      <th>Lon</th>\n",
       "      <th>Airport Name</th>\n",
       "      <th>IATA Name</th>\n",
       "      <th>Airport Address</th>\n",
       "      <th>Distance</th>\n",
       "      <th>Website</th>\n",
       "    </tr>\n",
       "  </thead>\n",
       "  <tbody>\n",
       "    <tr>\n",
       "      <th>0</th>\n",
       "      <td>Sydney</td>\n",
       "      <td>-33.869844</td>\n",
       "      <td>151.208285</td>\n",
       "      <td>Sydney (Kingsford Smith) Airport</td>\n",
       "      <td>SYD</td>\n",
       "      <td>O'Riordan Street, Mascot NSW 2020, Australia</td>\n",
       "      <td>6742</td>\n",
       "      <td>https://www.sydneyairport.com.au/</td>\n",
       "    </tr>\n",
       "    <tr>\n",
       "      <th>1</th>\n",
       "      <td>Melbourne</td>\n",
       "      <td>-37.814245</td>\n",
       "      <td>144.963173</td>\n",
       "      <td>Essendon Fields Airport</td>\n",
       "      <td>MEB</td>\n",
       "      <td>72 Hargrave Avenue, Essendon Fields VIC 3041, ...</td>\n",
       "      <td>9983</td>\n",
       "      <td>https://www.ef.com.au/</td>\n",
       "    </tr>\n",
       "  </tbody>\n",
       "</table>\n",
       "</div>"
      ],
      "text/plain": [
       "        City        Lat         Lon                      Airport Name  \\\n",
       "0     Sydney -33.869844  151.208285  Sydney (Kingsford Smith) Airport   \n",
       "1  Melbourne -37.814245  144.963173           Essendon Fields Airport   \n",
       "\n",
       "  IATA Name                                    Airport Address Distance  \\\n",
       "0       SYD       O'Riordan Street, Mascot NSW 2020, Australia     6742   \n",
       "1       MEB  72 Hargrave Avenue, Essendon Fields VIC 3041, ...     9983   \n",
       "\n",
       "                             Website  \n",
       "0  https://www.sydneyairport.com.au/  \n",
       "1             https://www.ef.com.au/  "
      ]
     },
     "execution_count": 16,
     "metadata": {},
     "output_type": "execute_result"
    }
   ],
   "source": [
    "# Save Data to CSV\n",
    "cities_pd.head(2)"
   ]
  },
  {
   "cell_type": "code",
   "execution_count": 17,
   "metadata": {},
   "outputs": [],
   "source": [
    "cities_pd.to_csv(\"Airport_Output.csv\", index=False)"
   ]
  },
  {
   "cell_type": "code",
   "execution_count": null,
   "metadata": {},
   "outputs": [],
   "source": []
  }
 ],
 "metadata": {
  "anaconda-cloud": {},
  "kernelspec": {
   "display_name": "Python 3 (ipykernel)",
   "language": "python",
   "name": "python3"
  },
  "language_info": {
   "codemirror_mode": {
    "name": "ipython",
    "version": 3
   },
   "file_extension": ".py",
   "mimetype": "text/x-python",
   "name": "python",
   "nbconvert_exporter": "python",
   "pygments_lexer": "ipython3",
   "version": "3.10.9"
  }
 },
 "nbformat": 4,
 "nbformat_minor": 4
}
