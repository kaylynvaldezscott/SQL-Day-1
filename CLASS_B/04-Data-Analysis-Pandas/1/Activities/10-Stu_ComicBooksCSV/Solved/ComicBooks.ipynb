{
 "cells": [
  {
   "cell_type": "code",
   "execution_count": 6,
   "metadata": {},
   "outputs": [],
   "source": [
    "# Import Dependencies\n",
    "import pandas as pd"
   ]
  },
  {
   "cell_type": "code",
   "execution_count": 9,
   "metadata": {},
   "outputs": [],
   "source": [
    "df1=pd.read_csv(\"Resources/comic_books_expanded.csv\")"
   ]
  },
  {
   "cell_type": "code",
   "execution_count": 11,
   "metadata": {},
   "outputs": [
    {
     "data": {
      "text/plain": [
       "(28692, 27)"
      ]
     },
     "execution_count": 11,
     "metadata": {},
     "output_type": "execute_result"
    }
   ],
   "source": [
    "df1.shape"
   ]
  },
  {
   "cell_type": "code",
   "execution_count": 10,
   "metadata": {},
   "outputs": [
    {
     "data": {
      "text/html": [
       "<div>\n",
       "<style scoped>\n",
       "    .dataframe tbody tr th:only-of-type {\n",
       "        vertical-align: middle;\n",
       "    }\n",
       "\n",
       "    .dataframe tbody tr th {\n",
       "        vertical-align: top;\n",
       "    }\n",
       "\n",
       "    .dataframe thead th {\n",
       "        text-align: right;\n",
       "    }\n",
       "</style>\n",
       "<table border=\"1\" class=\"dataframe\">\n",
       "  <thead>\n",
       "    <tr style=\"text-align: right;\">\n",
       "      <th></th>\n",
       "      <th>Title</th>\n",
       "      <th>Other titles</th>\n",
       "      <th>BL record ID</th>\n",
       "      <th>Type of resource</th>\n",
       "      <th>Content type</th>\n",
       "      <th>Material type</th>\n",
       "      <th>BNB number</th>\n",
       "      <th>ISBN</th>\n",
       "      <th>Name</th>\n",
       "      <th>Dates associated with name</th>\n",
       "      <th>...</th>\n",
       "      <th>Publisher</th>\n",
       "      <th>Date of publication</th>\n",
       "      <th>Edition</th>\n",
       "      <th>Physical description</th>\n",
       "      <th>Dewey classification</th>\n",
       "      <th>BL shelfmark</th>\n",
       "      <th>Topics</th>\n",
       "      <th>Genre</th>\n",
       "      <th>Languages</th>\n",
       "      <th>Notes</th>\n",
       "    </tr>\n",
       "  </thead>\n",
       "  <tbody>\n",
       "    <tr>\n",
       "      <th>0</th>\n",
       "      <td>#$@&amp;! : the official Lloyd Llewellyn collection</td>\n",
       "      <td>Official Lloyd Llewellyn collection</td>\n",
       "      <td>10989363</td>\n",
       "      <td>Monograph</td>\n",
       "      <td>Language material ; Text</td>\n",
       "      <td>Volume</td>\n",
       "      <td>GBA0W2786</td>\n",
       "      <td>9780930193904</td>\n",
       "      <td>Clowes, Daniel</td>\n",
       "      <td>NaN</td>\n",
       "      <td>...</td>\n",
       "      <td>Fantagraphics ; Turnaround</td>\n",
       "      <td>1997</td>\n",
       "      <td>3rd edition</td>\n",
       "      <td>95 pages, illustrations, 28 cm</td>\n",
       "      <td>741.5973</td>\n",
       "      <td>YK.2005.b.3891</td>\n",
       "      <td>Private investigators--Comic books, strips, etc</td>\n",
       "      <td>Comic or graphic novel ; Detective and mystery</td>\n",
       "      <td>English</td>\n",
       "      <td>Previous edition: 1993</td>\n",
       "    </tr>\n",
       "    <tr>\n",
       "      <th>1</th>\n",
       "      <td>#WhatDoYouSee? : a graphic novel anthology of ...</td>\n",
       "      <td>NaN</td>\n",
       "      <td>19185604</td>\n",
       "      <td>Monograph</td>\n",
       "      <td>Language material ; Still image ; Text</td>\n",
       "      <td>Volume</td>\n",
       "      <td>GBC021527</td>\n",
       "      <td>9780992664220</td>\n",
       "      <td>NaN</td>\n",
       "      <td>NaN</td>\n",
       "      <td>...</td>\n",
       "      <td>Roots &amp; Wings</td>\n",
       "      <td>2018</td>\n",
       "      <td>NaN</td>\n",
       "      <td>1 volume (unpaged), illustrations (black and w...</td>\n",
       "      <td>741.5942</td>\n",
       "      <td>YKL.2020.a.3026</td>\n",
       "      <td>Mental health--Comic books, strips, etc</td>\n",
       "      <td>Comic or graphic novel ; Novel</td>\n",
       "      <td>English</td>\n",
       "      <td>'Fulfilling Lives work with people with combin...</td>\n",
       "    </tr>\n",
       "  </tbody>\n",
       "</table>\n",
       "<p>2 rows × 27 columns</p>\n",
       "</div>"
      ],
      "text/plain": [
       "                                               Title  \\\n",
       "0    #$@&! : the official Lloyd Llewellyn collection   \n",
       "1  #WhatDoYouSee? : a graphic novel anthology of ...   \n",
       "\n",
       "                          Other titles  BL record ID Type of resource  \\\n",
       "0  Official Lloyd Llewellyn collection      10989363        Monograph   \n",
       "1                                  NaN      19185604        Monograph   \n",
       "\n",
       "                             Content type Material type BNB number  \\\n",
       "0                Language material ; Text        Volume  GBA0W2786   \n",
       "1  Language material ; Still image ; Text        Volume  GBC021527   \n",
       "\n",
       "            ISBN            Name Dates associated with name  ...  \\\n",
       "0  9780930193904  Clowes, Daniel                        NaN  ...   \n",
       "1  9780992664220             NaN                        NaN  ...   \n",
       "\n",
       "                    Publisher Date of publication      Edition  \\\n",
       "0  Fantagraphics ; Turnaround                1997  3rd edition   \n",
       "1               Roots & Wings                2018          NaN   \n",
       "\n",
       "                                Physical description Dewey classification  \\\n",
       "0                     95 pages, illustrations, 28 cm             741.5973   \n",
       "1  1 volume (unpaged), illustrations (black and w...             741.5942   \n",
       "\n",
       "      BL shelfmark                                           Topics  \\\n",
       "0   YK.2005.b.3891  Private investigators--Comic books, strips, etc   \n",
       "1  YKL.2020.a.3026          Mental health--Comic books, strips, etc   \n",
       "\n",
       "                                            Genre  Languages  \\\n",
       "0  Comic or graphic novel ; Detective and mystery    English   \n",
       "1                  Comic or graphic novel ; Novel    English   \n",
       "\n",
       "                                               Notes  \n",
       "0                             Previous edition: 1993  \n",
       "1  'Fulfilling Lives work with people with combin...  \n",
       "\n",
       "[2 rows x 27 columns]"
      ]
     },
     "execution_count": 10,
     "metadata": {},
     "output_type": "execute_result"
    }
   ],
   "source": [
    "df1.head(2)"
   ]
  },
  {
   "cell_type": "code",
   "execution_count": 15,
   "metadata": {},
   "outputs": [],
   "source": [
    "df2=df1[[\"ISBN\", \"Title\", \"Other titles\", \"Name\", \"All names\", \n",
    "                       \"Country of publication\", \"Place of publication\", \n",
    "                       \"Publisher\", \"Date of publication\"]]"
   ]
  },
  {
   "cell_type": "code",
   "execution_count": 18,
   "metadata": {},
   "outputs": [
    {
     "data": {
      "text/html": [
       "<div>\n",
       "<style scoped>\n",
       "    .dataframe tbody tr th:only-of-type {\n",
       "        vertical-align: middle;\n",
       "    }\n",
       "\n",
       "    .dataframe tbody tr th {\n",
       "        vertical-align: top;\n",
       "    }\n",
       "\n",
       "    .dataframe thead th {\n",
       "        text-align: right;\n",
       "    }\n",
       "</style>\n",
       "<table border=\"1\" class=\"dataframe\">\n",
       "  <thead>\n",
       "    <tr style=\"text-align: right;\">\n",
       "      <th></th>\n",
       "      <th>ISBN</th>\n",
       "      <th>Title</th>\n",
       "      <th>Other titles</th>\n",
       "      <th>Name</th>\n",
       "      <th>All names</th>\n",
       "      <th>Country of publication</th>\n",
       "      <th>Place of publication</th>\n",
       "      <th>Publisher</th>\n",
       "      <th>Date of publication</th>\n",
       "    </tr>\n",
       "  </thead>\n",
       "  <tbody>\n",
       "    <tr>\n",
       "      <th>0</th>\n",
       "      <td>9780930193904</td>\n",
       "      <td>#$@&amp;! : the official Lloyd Llewellyn collection</td>\n",
       "      <td>Official Lloyd Llewellyn collection</td>\n",
       "      <td>Clowes, Daniel</td>\n",
       "      <td>Clowes, Daniel [person]</td>\n",
       "      <td>England ; United States of America</td>\n",
       "      <td>London ; Seattle, Washington</td>\n",
       "      <td>Fantagraphics ; Turnaround</td>\n",
       "      <td>1997</td>\n",
       "    </tr>\n",
       "    <tr>\n",
       "      <th>1</th>\n",
       "      <td>9780992664220</td>\n",
       "      <td>#WhatDoYouSee? : a graphic novel anthology of ...</td>\n",
       "      <td>NaN</td>\n",
       "      <td>NaN</td>\n",
       "      <td>Fulfilling Lives (Programme) [organisation]</td>\n",
       "      <td>England</td>\n",
       "      <td>Newcastle upon Tyne</td>\n",
       "      <td>Roots &amp; Wings</td>\n",
       "      <td>2018</td>\n",
       "    </tr>\n",
       "  </tbody>\n",
       "</table>\n",
       "</div>"
      ],
      "text/plain": [
       "            ISBN                                              Title  \\\n",
       "0  9780930193904    #$@&! : the official Lloyd Llewellyn collection   \n",
       "1  9780992664220  #WhatDoYouSee? : a graphic novel anthology of ...   \n",
       "\n",
       "                          Other titles            Name  \\\n",
       "0  Official Lloyd Llewellyn collection  Clowes, Daniel   \n",
       "1                                  NaN             NaN   \n",
       "\n",
       "                                     All names  \\\n",
       "0                      Clowes, Daniel [person]   \n",
       "1  Fulfilling Lives (Programme) [organisation]   \n",
       "\n",
       "               Country of publication          Place of publication  \\\n",
       "0  England ; United States of America  London ; Seattle, Washington   \n",
       "1                             England           Newcastle upon Tyne   \n",
       "\n",
       "                    Publisher  Date of publication  \n",
       "0  Fantagraphics ; Turnaround                 1997  \n",
       "1               Roots & Wings                 2018  "
      ]
     },
     "execution_count": 18,
     "metadata": {},
     "output_type": "execute_result"
    }
   ],
   "source": [
    "df2.head(2)"
   ]
  },
  {
   "cell_type": "code",
   "execution_count": 20,
   "metadata": {},
   "outputs": [],
   "source": [
    "df3=df2.rename(columns={\"Other titles\": \"Other Titles\",\n",
    "                                        \"Name\": \"Author\",\n",
    "                                        \"All names\": \"All Names\",\n",
    "                                        \"Country of publication\": \"Country of Publication\",\n",
    "                                        \"Place of publication\": \"Place of Publication\",\n",
    "                                        \"Date of publication\": \"Publication Year\",})"
   ]
  },
  {
   "cell_type": "code",
   "execution_count": 21,
   "metadata": {},
   "outputs": [],
   "source": [
    "# Push the remade DataFrame to a new CSV file\n",
    "df3.to_csv(\"Output/books_clean.csv\")"
   ]
  },
  {
   "cell_type": "code",
   "execution_count": null,
   "metadata": {},
   "outputs": [],
   "source": []
  }
 ],
 "metadata": {
  "kernelspec": {
   "display_name": "Python 3 (ipykernel)",
   "language": "python",
   "name": "python3"
  },
  "language_info": {
   "codemirror_mode": {
    "name": "ipython",
    "version": 3
   },
   "file_extension": ".py",
   "mimetype": "text/x-python",
   "name": "python",
   "nbconvert_exporter": "python",
   "pygments_lexer": "ipython3",
   "version": "3.10.9"
  },
  "nteract": {
   "version": "0.11.9"
  }
 },
 "nbformat": 4,
 "nbformat_minor": 2
}
